{
  "nbformat": 4,
  "nbformat_minor": 0,
  "metadata": {
    "colab": {
      "provenance": []
    },
    "kernelspec": {
      "name": "python3",
      "display_name": "Python 3"
    },
    "language_info": {
      "name": "python"
    }
  },
  "cells": [
    {
      "cell_type": "code",
      "execution_count": 1,
      "metadata": {
        "id": "gHLy3x8Bm54k"
      },
      "outputs": [],
      "source": [
        "import numpy as np\n",
        "import pandas as pd\n",
        "import os\n",
        "import shutil\n",
        "from google.colab import files\n",
        "from google.colab import drive\n",
        "import matplotlib.pyplot as plt\n",
        "import seaborn as sns\n",
        "\n",
        "from sklearn.model_selection import train_test_split\n",
        "from sklearn.linear_model import LogisticRegression"
      ]
    },
    {
      "cell_type": "code",
      "source": [
        "sns.set()\n",
        "drive.mount(\"/content/drive\", force_remount = True)\n",
        "\n",
        "for dir, subdir, files in os.walk(\"/content/drive/MyDrive\"):\n",
        "  print(dir, subdir, files, sep = \"\\n\")\n",
        "  print()"
      ],
      "metadata": {
        "colab": {
          "base_uri": "https://localhost:8080/"
        },
        "id": "kJ8ZBStenY53",
        "outputId": "78ba7014-5386-4b8c-f729-a1bee5606045"
      },
      "execution_count": 3,
      "outputs": [
        {
          "output_type": "stream",
          "name": "stdout",
          "text": [
            "Mounted at /content/drive\n",
            "/content/drive/MyDrive\n",
            "['Classroom', 'Colab Notebooks', 'College', 'MLProcessAZ']\n",
            "['Saharshcvtemp01.pdf', 'Citizen Sleeper - Launch Trailer - Nintendo Switch - Nintendo of America (youtube) (1).mp3']\n",
            "\n",
            "/content/drive/MyDrive/Classroom\n",
            "['TE Div A,B,C-2024-25 Elective 1']\n",
            "[]\n",
            "\n",
            "/content/drive/MyDrive/Classroom/TE Div A,B,C-2024-25 Elective 1\n",
            "[]\n",
            "[]\n",
            "\n",
            "/content/drive/MyDrive/Colab Notebooks\n",
            "[]\n",
            "['DataPreprocessingReference(2).ipynb', 'DataPreprocessingReference(1).ipynb', 'DataPreprocessing.ipynb', 'Practical.ipynb', 'EDA_MLProcess_AZ_Visualization.ipynb', 'Feature_Engineering_1.ipynb', 'Feature_Engineering_2.ipynb', 'FeatureEngineering.ipynb', 'FeatureSelection.ipynb', 'Copy of Colab_section_5_missing_values.ipynb', 'Copy of Colab_section_5_outliers.ipynb', 'Copy of Colab_basic-eda-example.ipynb', 'Copy of Colab_section_7_1_categorical_features.ipynb', 'Copy of Colab_section_7_2_continuous_feature_scaling.ipynb', 'Copy of Colab_section_8_cross_validation.ipynb', 'Copy of Colab_section_9_feature_selection.ipynb', 'Copy of Colab_dealing_with_imbalanced_data.ipynb', 'Copy of Colab_model-building-example-section-11.ipynb', 'Copy of Colab_classification_metrics.ipynb', 'Copy of Colab_regression_metrics.ipynb', 'CustomerSegmentationInMarketingWithPython.ipynb', 'Untitled0.ipynb', 'Customer Analytics Segmentation Project Solution Part 1.ipynb', 'MusicClassificationTest- Solution.ipynb', 'Music_Classification_Project_Final_Submit.ipynb']\n",
            "\n",
            "/content/drive/MyDrive/College\n",
            "[]\n",
            "['Untitled presentation (1).gslides', 'Untitled presentation.gslides', 'STCAmanTEC21.docx', 'CopyrightUploadTEC21.docx']\n",
            "\n",
            "/content/drive/MyDrive/MLProcessAZ\n",
            "['ML_Process_Data_Files', 'Project_Data']\n",
            "['clv_data.csv', 'Dev_data_to_be_shared.csv']\n",
            "\n",
            "/content/drive/MyDrive/MLProcessAZ/Project_Data\n",
            "[]\n",
            "['customer_segmentation_data.csv', 'music_dataset_mod.csv']\n",
            "\n"
          ]
        }
      ]
    },
    {
      "cell_type": "code",
      "source": [
        "file_path = \"/content/drive/MyDrive/MLProcessAZ/Project_Data\"\n",
        "raw_data = pd.read_csv(file_path)"
      ],
      "metadata": {
        "id": "1bleCao8p802"
      },
      "execution_count": null,
      "outputs": []
    }
  ]
}